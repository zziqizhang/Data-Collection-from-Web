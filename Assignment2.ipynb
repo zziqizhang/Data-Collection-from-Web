{
 "cells": [
  {
   "cell_type": "markdown",
   "metadata": {},
   "source": [
    "# A2\n",
    "Ziqi Zhang"
   ]
  },
  {
   "cell_type": "code",
   "execution_count": 1,
   "metadata": {},
   "outputs": [],
   "source": [
    "import requests\n",
    "import pandas as pd\n",
    "import xml.etree.ElementTree as ET\n",
    "import pandas as pd"
   ]
  },
  {
   "cell_type": "markdown",
   "metadata": {},
   "source": [
    "## 1.APPLE"
   ]
  },
  {
   "cell_type": "code",
   "execution_count": 5,
   "metadata": {},
   "outputs": [],
   "source": [
    "response = requests.get(url=\"https://seekingalpha.com/api/sa/combined/AAPL.xml\")\n",
    "#print(response.text)\n",
    "root = ET.fromstring(response.text)"
   ]
  },
  {
   "cell_type": "code",
   "execution_count": 7,
   "metadata": {},
   "outputs": [],
   "source": [
    "child = root[0]\n",
    "#print(len(child))\n",
    "#for grandchild in child:\n",
    "    #print(grandchild.tag, \"has a length of\", len(grandchild))"
   ]
  },
  {
   "cell_type": "code",
   "execution_count": 8,
   "metadata": {},
   "outputs": [],
   "source": [
    "#item = child[3]\n",
    "#for i in item:\n",
    "    #print(\"tag = \" + i.tag)\n",
    "    #if i.text is not None:\n",
    "        #print(\"text = \" + i.text.strip())\n",
    "    #print()"
   ]
  },
  {
   "cell_type": "code",
   "execution_count": 9,
   "metadata": {},
   "outputs": [],
   "source": [
    "#item[7][1].text.strip()"
   ]
  },
  {
   "cell_type": "code",
   "execution_count": 10,
   "metadata": {},
   "outputs": [],
   "source": [
    "Symbol=[]\n",
    "Title=[]\n",
    "Author=[]\n",
    "Date=[]\n",
    "Name=[]\n",
    "\n",
    "for grandchild in child:\n",
    "    if len(grandchild) != 0:\n",
    "        Symbol.append('AAPL')\n",
    "        for item in grandchild:\n",
    "            if item.tag == 'title': \n",
    "                Title.append(item.text)\n",
    "            elif item.tag == 'pubDate':\n",
    "                Date.append(item.text)\n",
    "            elif item.tag == '{https://seekingalpha.com/api/1.0}author_name':\n",
    "                Author.append(item.text)\n",
    "            elif item.tag == '{https://seekingalpha.com/api/1.0}stock':\n",
    "                Name.append(item[1].text)\n",
    "                break"
   ]
  },
  {
   "cell_type": "code",
   "execution_count": 11,
   "metadata": {},
   "outputs": [],
   "source": [
    "data_set = {'Symbol':Symbol , \n",
    "            'Title':Title , \n",
    "            'Author' : Author , \n",
    "            'Publication Date' : Date , \n",
    "            'Company Name' : Name}\n",
    "df1=pd.DataFrame(data_set)"
   ]
  },
  {
   "cell_type": "markdown",
   "metadata": {},
   "source": [
    "## 2.TESLA"
   ]
  },
  {
   "cell_type": "code",
   "execution_count": 12,
   "metadata": {},
   "outputs": [],
   "source": [
    "response = requests.get(url=\"https://seekingalpha.com/api/sa/combined/TSLA.xml\")\n",
    "root = ET.fromstring(response.text)\n",
    "child = root[0]\n",
    "\n",
    "Symbol=[]\n",
    "Title=[]\n",
    "Author=[]\n",
    "Date=[]\n",
    "Name=[]\n",
    "\n",
    "for grandchild in child:\n",
    "    if len(grandchild) != 0:\n",
    "        Symbol.append('TSLA')\n",
    "        for item in grandchild:\n",
    "            if item.tag == 'title': \n",
    "                Title.append(item.text)\n",
    "            elif item.tag == 'pubDate':\n",
    "                Date.append(item.text)\n",
    "            elif item.tag == '{https://seekingalpha.com/api/1.0}author_name':\n",
    "                Author.append(item.text)\n",
    "            elif item.tag == '{https://seekingalpha.com/api/1.0}stock':\n",
    "                Name.append(item[1].text)\n",
    "                break\n",
    "\n",
    "data_set = {'Symbol':Symbol , \n",
    "            'Title':Title , \n",
    "            'Author' : Author , \n",
    "            'Publication Date' : Date , \n",
    "            'Company Name' : Name}\n",
    "df2=pd.DataFrame(data_set)"
   ]
  },
  {
   "cell_type": "markdown",
   "metadata": {},
   "source": [
    "## 3.BILIBILI"
   ]
  },
  {
   "cell_type": "code",
   "execution_count": 13,
   "metadata": {},
   "outputs": [],
   "source": [
    "response = requests.get(url=\"https://seekingalpha.com/api/sa/combined/BILI.xml\")\n",
    "root = ET.fromstring(response.text)\n",
    "child = root[0]\n",
    "\n",
    "Symbol=[]\n",
    "Title=[]\n",
    "Author=[]\n",
    "Date=[]\n",
    "Name=[]\n",
    "\n",
    "for grandchild in child:\n",
    "    if len(grandchild) != 0:\n",
    "        Symbol.append('BILI')\n",
    "        for item in grandchild:\n",
    "            if item.tag == 'title': \n",
    "                Title.append(item.text)\n",
    "            elif item.tag == 'pubDate':\n",
    "                Date.append(item.text)\n",
    "            elif item.tag == '{https://seekingalpha.com/api/1.0}author_name':\n",
    "                Author.append(item.text)\n",
    "            elif item.tag == '{https://seekingalpha.com/api/1.0}stock':\n",
    "                Name.append(item[1].text)\n",
    "                break\n",
    "\n",
    "data_set = {'Symbol':Symbol , \n",
    "            'Title':Title , \n",
    "            'Author' : Author , \n",
    "            'Publication Date' : Date , \n",
    "            'Company Name' : Name}\n",
    "df3=pd.DataFrame(data_set)"
   ]
  },
  {
   "cell_type": "markdown",
   "metadata": {},
   "source": [
    "## Merge data"
   ]
  },
  {
   "cell_type": "code",
   "execution_count": 14,
   "metadata": {},
   "outputs": [
    {
     "name": "stdout",
     "output_type": "stream",
     "text": [
      "Symbol                           object\n",
      "Title                            object\n",
      "Author                           object\n",
      "Publication Date    datetime64[ns, UTC]\n",
      "Company Name                     object\n",
      "dtype: object\n"
     ]
    },
    {
     "data": {
      "text/html": [
       "<div>\n",
       "<style scoped>\n",
       "    .dataframe tbody tr th:only-of-type {\n",
       "        vertical-align: middle;\n",
       "    }\n",
       "\n",
       "    .dataframe tbody tr th {\n",
       "        vertical-align: top;\n",
       "    }\n",
       "\n",
       "    .dataframe thead th {\n",
       "        text-align: right;\n",
       "    }\n",
       "</style>\n",
       "<table border=\"1\" class=\"dataframe\">\n",
       "  <thead>\n",
       "    <tr style=\"text-align: right;\">\n",
       "      <th></th>\n",
       "      <th>Symbol</th>\n",
       "      <th>Title</th>\n",
       "      <th>Author</th>\n",
       "      <th>Publication Date</th>\n",
       "      <th>Company Name</th>\n",
       "    </tr>\n",
       "  </thead>\n",
       "  <tbody>\n",
       "    <tr>\n",
       "      <th>0</th>\n",
       "      <td>AAPL</td>\n",
       "      <td>Tesla is the only megacap with leverage headin...</td>\n",
       "      <td>Kim Khan</td>\n",
       "      <td>2021-01-16 23:54:26+00:00</td>\n",
       "      <td>Tesla, Inc.</td>\n",
       "    </tr>\n",
       "    <tr>\n",
       "      <th>1</th>\n",
       "      <td>AAPL</td>\n",
       "      <td>Apple roundup: Re-closing some stores, plannin...</td>\n",
       "      <td>Jason Aycock</td>\n",
       "      <td>2021-01-15 23:24:30+00:00</td>\n",
       "      <td>Apple Inc.</td>\n",
       "    </tr>\n",
       "    <tr>\n",
       "      <th>2</th>\n",
       "      <td>AAPL</td>\n",
       "      <td>Xiaomi plunges 10% as U.S. adds smartphone gia...</td>\n",
       "      <td>Yoel Minkoff</td>\n",
       "      <td>2021-01-15 10:45:41+00:00</td>\n",
       "      <td>Xiaomi Corporation</td>\n",
       "    </tr>\n",
       "    <tr>\n",
       "      <th>3</th>\n",
       "      <td>AAPL</td>\n",
       "      <td>Apple and Canoo (GOEV) discussed possible deal...</td>\n",
       "      <td>Clark Schultz</td>\n",
       "      <td>2021-01-13 13:43:42+00:00</td>\n",
       "      <td>Apple Inc.</td>\n",
       "    </tr>\n",
       "    <tr>\n",
       "      <th>4</th>\n",
       "      <td>AAPL</td>\n",
       "      <td>Apple iPhones demand starts off 2021 strong</td>\n",
       "      <td>Clark Schultz</td>\n",
       "      <td>2021-01-13 11:55:48+00:00</td>\n",
       "      <td>Apple Inc.</td>\n",
       "    </tr>\n",
       "    <tr>\n",
       "      <th>...</th>\n",
       "      <td>...</td>\n",
       "      <td>...</td>\n",
       "      <td>...</td>\n",
       "      <td>...</td>\n",
       "      <td>...</td>\n",
       "    </tr>\n",
       "    <tr>\n",
       "      <th>25</th>\n",
       "      <td>BILI</td>\n",
       "      <td>Bilibili prices offering of convertible senior...</td>\n",
       "      <td>Niloofer Shaikh</td>\n",
       "      <td>2020-05-29 09:51:44+00:00</td>\n",
       "      <td>Bilibili Inc.</td>\n",
       "    </tr>\n",
       "    <tr>\n",
       "      <th>26</th>\n",
       "      <td>BILI</td>\n",
       "      <td>Bilibili proposes $650M convertible senior not...</td>\n",
       "      <td>Vandana Singh</td>\n",
       "      <td>2020-05-28 14:26:17+00:00</td>\n",
       "      <td>Bilibili Inc.</td>\n",
       "    </tr>\n",
       "    <tr>\n",
       "      <th>27</th>\n",
       "      <td>BILI</td>\n",
       "      <td>Bilibili +1.7% as Morgan Stanley lifts to Over...</td>\n",
       "      <td>Jason Aycock</td>\n",
       "      <td>2020-05-27 13:27:49+00:00</td>\n",
       "      <td>Bilibili Inc.</td>\n",
       "    </tr>\n",
       "    <tr>\n",
       "      <th>28</th>\n",
       "      <td>BILI</td>\n",
       "      <td>JPMorgan upgrades Bilibili on usage expectations</td>\n",
       "      <td>Jason Aycock</td>\n",
       "      <td>2020-05-21 15:42:54+00:00</td>\n",
       "      <td>Bilibili Inc.</td>\n",
       "    </tr>\n",
       "    <tr>\n",
       "      <th>29</th>\n",
       "      <td>BILI</td>\n",
       "      <td>Bilibili Inc. (BILI) CEO Rui Chen on Q1 2020 R...</td>\n",
       "      <td>SA Transcripts</td>\n",
       "      <td>2020-05-19 11:17:04+00:00</td>\n",
       "      <td>Bilibili Inc.</td>\n",
       "    </tr>\n",
       "  </tbody>\n",
       "</table>\n",
       "<p>90 rows × 5 columns</p>\n",
       "</div>"
      ],
      "text/plain": [
       "   Symbol                                              Title           Author  \\\n",
       "0    AAPL  Tesla is the only megacap with leverage headin...         Kim Khan   \n",
       "1    AAPL  Apple roundup: Re-closing some stores, plannin...     Jason Aycock   \n",
       "2    AAPL  Xiaomi plunges 10% as U.S. adds smartphone gia...     Yoel Minkoff   \n",
       "3    AAPL  Apple and Canoo (GOEV) discussed possible deal...    Clark Schultz   \n",
       "4    AAPL        Apple iPhones demand starts off 2021 strong    Clark Schultz   \n",
       "..    ...                                                ...              ...   \n",
       "25   BILI  Bilibili prices offering of convertible senior...  Niloofer Shaikh   \n",
       "26   BILI  Bilibili proposes $650M convertible senior not...    Vandana Singh   \n",
       "27   BILI  Bilibili +1.7% as Morgan Stanley lifts to Over...     Jason Aycock   \n",
       "28   BILI   JPMorgan upgrades Bilibili on usage expectations     Jason Aycock   \n",
       "29   BILI  Bilibili Inc. (BILI) CEO Rui Chen on Q1 2020 R...   SA Transcripts   \n",
       "\n",
       "            Publication Date        Company Name  \n",
       "0  2021-01-16 23:54:26+00:00         Tesla, Inc.  \n",
       "1  2021-01-15 23:24:30+00:00          Apple Inc.  \n",
       "2  2021-01-15 10:45:41+00:00  Xiaomi Corporation  \n",
       "3  2021-01-13 13:43:42+00:00          Apple Inc.  \n",
       "4  2021-01-13 11:55:48+00:00          Apple Inc.  \n",
       "..                       ...                 ...  \n",
       "25 2020-05-29 09:51:44+00:00       Bilibili Inc.  \n",
       "26 2020-05-28 14:26:17+00:00       Bilibili Inc.  \n",
       "27 2020-05-27 13:27:49+00:00       Bilibili Inc.  \n",
       "28 2020-05-21 15:42:54+00:00       Bilibili Inc.  \n",
       "29 2020-05-19 11:17:04+00:00       Bilibili Inc.  \n",
       "\n",
       "[90 rows x 5 columns]"
      ]
     },
     "execution_count": 14,
     "metadata": {},
     "output_type": "execute_result"
    }
   ],
   "source": [
    "df = [df1, df2, df3]\n",
    "df = pd.concat(df)\n",
    "df[\"Publication Date\"] = pd.to_datetime(df[\"Publication Date\"], utc=True)\n",
    "df.sort_values(by=\"Publication Date\",ascending = False)\n",
    "print(df.dtypes)\n",
    "df"
   ]
  },
  {
   "cell_type": "code",
   "execution_count": null,
   "metadata": {},
   "outputs": [],
   "source": []
  }
 ],
 "metadata": {
  "kernelspec": {
   "display_name": "Python 3",
   "language": "python",
   "name": "python3"
  },
  "language_info": {
   "codemirror_mode": {
    "name": "ipython",
    "version": 3
   },
   "file_extension": ".py",
   "mimetype": "text/x-python",
   "name": "python",
   "nbconvert_exporter": "python",
   "pygments_lexer": "ipython3",
   "version": "3.8.5"
  }
 },
 "nbformat": 4,
 "nbformat_minor": 4
}
